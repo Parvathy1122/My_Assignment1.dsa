{
 "cells": [
  {
   "cell_type": "code",
   "execution_count": 1,
   "id": "16a10366",
   "metadata": {},
   "outputs": [
    {
     "name": "stdout",
     "output_type": "stream",
     "text": [
      "Enter the radius of circle :3\n",
      "The area of circle is 28.269\n"
     ]
    }
   ],
   "source": [
    "###1. Area of circle\n",
    "\n",
    "r=float(input(\"Enter the radius of circle :\"))\n",
    "a = 3.141 * r * r\n",
    "print(\"The area of circle is\", a)\n"
   ]
  },
  {
   "cell_type": "code",
   "execution_count": 2,
   "id": "5bbf08c6",
   "metadata": {},
   "outputs": [
    {
     "name": "stdout",
     "output_type": "stream",
     "text": [
      "Enter the name of student :Anisha\n",
      "Enter the roll no :21\n",
      "Enter the mark :78\n",
      "Name of student : Anisha\n",
      "Roll No: 21\n",
      "Mark : 78\n"
     ]
    }
   ],
   "source": [
    "###2.student detiles\n",
    "n = input(\"Enter the name of student :\")\n",
    "rno = int(input(\"Enter the roll no :\"))\n",
    "m = int(input(\"Enter the mark :\"))\n",
    "print(\"Name of student :\", n)\n",
    "print(\"Roll No:\", rno)\n",
    "print(\"Mark :\", m)"
   ]
  },
  {
   "cell_type": "code",
   "execution_count": 3,
   "id": "f98632d9",
   "metadata": {},
   "outputs": [
    {
     "name": "stdout",
     "output_type": "stream",
     "text": [
      "The largest no is 47\n"
     ]
    }
   ],
   "source": [
    "###3.largest no of a list\n",
    "list1 = [12,3,47,10]\n",
    "m = max(list1)\n",
    "print(\"The largest no is\", m)"
   ]
  },
  {
   "cell_type": "code",
   "execution_count": 4,
   "id": "e08fc27d",
   "metadata": {},
   "outputs": [
    {
     "name": "stdout",
     "output_type": "stream",
     "text": [
      "Printing current and previous number and their sum in a range(10)\n",
      "Current Number 1 Previous Number  0  Sum:  1\n",
      "Current Number 2 Previous Number  1  Sum:  3\n",
      "Current Number 3 Previous Number  2  Sum:  5\n",
      "Current Number 4 Previous Number  3  Sum:  7\n",
      "Current Number 5 Previous Number  4  Sum:  9\n",
      "Current Number 6 Previous Number  5  Sum:  11\n",
      "Current Number 7 Previous Number  6  Sum:  13\n",
      "Current Number 8 Previous Number  7  Sum:  15\n",
      "Current Number 9 Previous Number  8  Sum:  17\n",
      "Current Number 10 Previous Number  9  Sum:  19\n"
     ]
    }
   ],
   "source": [
    "###4.sum of current no and previous \n",
    "print(\"Printing current and previous number and their sum in a range(10)\")\n",
    "previous_num = 0\n",
    "\n",
    "# loop from 1 to 10\n",
    "for i in range(1, 11):\n",
    "    x_sum = previous_num + i\n",
    "    print(\"Current Number\", i, \"Previous Number \", previous_num, \" Sum: \", x_sum)\n",
    "    # modify previous number\n",
    "    # set it to the current number\n",
    "    previous_num = i\n"
   ]
  },
  {
   "cell_type": "code",
   "execution_count": 6,
   "id": "d01abf81",
   "metadata": {},
   "outputs": [
    {
     "name": "stdout",
     "output_type": "stream",
     "text": [
      "10\n",
      "20\n",
      "55\n"
     ]
    }
   ],
   "source": [
    "###5.no divisible by 5\n",
    "      \n",
    "k=[10,20,3346,55]\n",
    "for i in k:\n",
    "    if(i%5==0):\n",
    "        print(i)\n",
    "    else:\n",
    "        i=i+1\n",
    "        \n"
   ]
  },
  {
   "cell_type": "code",
   "execution_count": 4,
   "id": "51058b17",
   "metadata": {},
   "outputs": [
    {
     "name": "stdout",
     "output_type": "stream",
     "text": [
      "Enter any number: 3\n",
      "3 is a prime number\n"
     ]
    }
   ],
   "source": [
    "###6.Prime no or not\n",
    "number = int(input(\"Enter any number: \"))\n",
    "                                 # prime number is always greater than 1\n",
    "if number > 1:\n",
    "    for i in range(2, number):\n",
    "        if (number % i) == 0:\n",
    "            print(number, \"is not a prime number\")\n",
    "            break\n",
    "    else:\n",
    "        print(number, \"is a prime number\")\n",
    "\n",
    "# if the entered number is less than or equal to 1\n",
    "# then it is not prime number\n",
    "else:\n",
    "    print(number, \"is not a prime number\")"
   ]
  },
  {
   "cell_type": "code",
   "execution_count": 5,
   "id": "cc6c308d",
   "metadata": {},
   "outputs": [
    {
     "name": "stdout",
     "output_type": "stream",
     "text": [
      "[10, 40, 30, 70]\n",
      "The reverse of list is: [70, 30, 40, 10]\n"
     ]
    }
   ],
   "source": [
    "###7.Reversing list\n",
    "\n",
    "L = [10,40,30,70]\n",
    "print(L)\n",
    "L.reverse()\n",
    "print(\"The reverse of list is:\", L)\n"
   ]
  },
  {
   "cell_type": "code",
   "execution_count": 6,
   "id": "0b88f524",
   "metadata": {},
   "outputs": [
    {
     "name": "stdout",
     "output_type": "stream",
     "text": [
      "*\n",
      "**\n",
      "***\n",
      "****\n"
     ]
    }
   ],
   "source": [
    "###8.Pattern printing\n",
    "print(\"*\")\n",
    "print(\"**\")\n",
    "print(\"***\")\n",
    "print(\"****\")"
   ]
  },
  {
   "cell_type": "code",
   "execution_count": 7,
   "id": "cb84671a",
   "metadata": {},
   "outputs": [
    {
     "name": "stdout",
     "output_type": "stream",
     "text": [
      "34\n",
      "12\n",
      "7\n",
      "Max of three no is 34\n"
     ]
    }
   ],
   "source": [
    "###9.max of three no\n",
    "A = int(input())\n",
    "B = int(input())\n",
    "C = int(input())\n",
    "k = max(A,B,C)\n",
    "print(\"Max of three no is\",k)"
   ]
  },
  {
   "cell_type": "code",
   "execution_count": 8,
   "id": "ba384dab",
   "metadata": {},
   "outputs": [
    {
     "name": "stdout",
     "output_type": "stream",
     "text": [
      "\n",
      "* \n",
      "* * \n",
      "* * * \n",
      "* * * * \n",
      "* * * * * \n",
      "* * * * \n",
      "* * * \n",
      "* * \n",
      "* \n"
     ]
    }
   ],
   "source": [
    "###10.Pattern creation using nested loop\n",
    "n=5\n",
    "for i in range(n):\n",
    "    for j in range(i):\n",
    "        print ('* ', end=\"\")\n",
    "    print('')\n",
    "\n",
    "for i in range(n,0,-1):\n",
    "    for j in range(i):\n",
    "        print('* ', end=\"\")\n",
    "    print('')\n",
    "\n"
   ]
  },
  {
   "cell_type": "code",
   "execution_count": null,
   "id": "680abf8b",
   "metadata": {},
   "outputs": [],
   "source": []
  },
  {
   "cell_type": "code",
   "execution_count": null,
   "id": "8eca4d01",
   "metadata": {},
   "outputs": [],
   "source": []
  },
  {
   "cell_type": "code",
   "execution_count": null,
   "id": "f20da143",
   "metadata": {},
   "outputs": [],
   "source": []
  }
 ],
 "metadata": {
  "kernelspec": {
   "display_name": "Python 3 (ipykernel)",
   "language": "python",
   "name": "python3"
  },
  "language_info": {
   "codemirror_mode": {
    "name": "ipython",
    "version": 3
   },
   "file_extension": ".py",
   "mimetype": "text/x-python",
   "name": "python",
   "nbconvert_exporter": "python",
   "pygments_lexer": "ipython3",
   "version": "3.9.12"
  }
 },
 "nbformat": 4,
 "nbformat_minor": 5
}
